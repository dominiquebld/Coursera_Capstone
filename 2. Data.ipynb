{
 "cells": [
  {
   "cell_type": "markdown",
   "metadata": {},
   "source": [
    "# Data"
   ]
  },
  {
   "cell_type": "markdown",
   "metadata": {},
   "source": [
    "1. We will use Wikipedia for the districts and neighborhoods of the chosen municipalities of Gran Canaria."
   ]
  },
  {
   "cell_type": "markdown",
   "metadata": {},
   "source": [
    "|Municipality|Website|\n",
    "|---|---|\n",
    "|Las Palmas de Gran Canaria|https://es.wikipedia.org/wiki/Anexo:Barrios_de_Las_Palmas_de_Gran_Canaria|\n",
    "|Telde|https://es.wikipedia.org/wiki/Telde|\n",
    "|San Bartolomé de Tirajana|https://es.wikipedia.org/wiki/San_Bartolom%C3%A9_de_Tirajana"
   ]
  },
  {
   "cell_type": "markdown",
   "metadata": {},
   "source": [
    "2. We will gather the coordinates of the different neighborhoods from the Python Geocode library.<br>\n",
    "3. We will use The Foursquare API to gather nearby amenities and beaches.<br>"
   ]
  },
  {
   "cell_type": "code",
   "execution_count": null,
   "metadata": {},
   "outputs": [],
   "source": []
  }
 ],
 "metadata": {
  "kernelspec": {
   "display_name": "Python",
   "language": "python",
   "name": "conda-env-python-py"
  },
  "language_info": {
   "codemirror_mode": {
    "name": "ipython",
    "version": 3
   },
   "file_extension": ".py",
   "mimetype": "text/x-python",
   "name": "python",
   "nbconvert_exporter": "python",
   "pygments_lexer": "ipython3",
   "version": "3.6.10"
  }
 },
 "nbformat": 4,
 "nbformat_minor": 4
}
