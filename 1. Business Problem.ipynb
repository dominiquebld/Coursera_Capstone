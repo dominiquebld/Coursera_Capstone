{
 "cells": [
  {
   "cell_type": "markdown",
   "metadata": {},
   "source": [
    "# Peer-graded Assignment: Capstone Project - The Battle of Neighborhoods (Week 1)"
   ]
  },
  {
   "cell_type": "markdown",
   "metadata": {},
   "source": [
    "## Introduction"
   ]
  },
  {
   "cell_type": "markdown",
   "metadata": {},
   "source": [
    "Gran Canaria is an island on the Northwest coast of Africa, belonging to Spain and a popular touristic destination.\n",
    "Due to the warm weather and the many tourists it offers oportunities for ice-cream shops.\n",
    "<br>More information about Gran Canaria can be on the Wikipedia https://en.wikipedia.org/wiki/Gran_Canaria"
   ]
  },
  {
   "cell_type": "markdown",
   "metadata": {},
   "source": [
    "## Business Problem"
   ]
  },
  {
   "cell_type": "markdown",
   "metadata": {},
   "source": [
    "Finding the good location for an new ice-cream shop is essential, maybe even more so than other types of stores. As Gran Canaria has several touristic areas with each their differences it can be quite challenging to find the best spot.\n",
    "<br> Although this project will exclusively focus on the ice-cream business it can be applied to many other types of shops.\n",
    "\n",
    "This project will focus on a neighborhoods in a couple of the main touristic municipalities:\n",
    "- Las Palmas de Gran Canaria (the capital area of the island)\n",
    "- San_Bartolomé_de_Tirajana (the south touristic area)\n",
    "- Telde (eastern area)"
   ]
  },
  {
   "cell_type": "markdown",
   "metadata": {},
   "source": [
    "The criteria used for this will be:\n",
    "- Proximity of a beach\n",
    "- Proximity of other ice-cream shops\n",
    "- Amount of amenities close by\n",
    "- Proximity of typical tourist attractions\n",
    "- Amount of hotels near by\n",
    "\n",
    "Criteria that will not be used:\n",
    "- Amount of pedestrian traffic in a location\n",
    "<br><i> At the moment we do not sufficient data about this. However this is a strong influencing factor and might be a good addition for the future.</i>"
   ]
  },
  {
   "cell_type": "code",
   "execution_count": null,
   "metadata": {},
   "outputs": [],
   "source": []
  }
 ],
 "metadata": {
  "kernelspec": {
   "display_name": "Python",
   "language": "python",
   "name": "conda-env-python-py"
  },
  "language_info": {
   "codemirror_mode": {
    "name": "ipython",
    "version": 3
   },
   "file_extension": ".py",
   "mimetype": "text/x-python",
   "name": "python",
   "nbconvert_exporter": "python",
   "pygments_lexer": "ipython3",
   "version": "3.6.10"
  }
 },
 "nbformat": 4,
 "nbformat_minor": 4
}
